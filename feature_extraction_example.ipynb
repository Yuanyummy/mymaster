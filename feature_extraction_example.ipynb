{
 "cells": [
  {
   "cell_type": "code",
   "execution_count": 1,
   "id": "6b568723-f1e5-4ab4-b151-b98ba7183bcc",
   "metadata": {},
   "outputs": [],
   "source": [
    "import os\n",
    "from PIL import Image\n",
    "from torchvision import transforms\n",
    "import torch\n",
    "import torchvision.models as models\n",
    "from tqdm import tqdm\n",
    "from torch.utils.data import DataLoader\n",
    "from torchvision.datasets import ImageFolder\n"
   ]
  },
  {
   "cell_type": "code",
   "execution_count": 2,
   "id": "26f5fbdc-dc94-458e-bbc3-01aaba4019e4",
   "metadata": {},
   "outputs": [
    {
     "name": "stdout",
     "output_type": "stream",
     "text": [
      "Device: cuda:0\n"
     ]
    }
   ],
   "source": [
    "device = torch.device(\"cuda:0\" if torch.cuda.is_available() else \"cpu\")\n",
    "print(f'Device: {device}')"
   ]
  },
  {
   "cell_type": "code",
   "execution_count": 10,
   "id": "1bb28b80-cbb2-44f6-b48b-504b465fe9cf",
   "metadata": {},
   "outputs": [],
   "source": [
    "def load_model():\n",
    "    model = models.vgg16(weights=models.VGG16_Weights.IMAGENET1K_V1).features.eval()\n",
    "    model.to(device)\n",
    "    return model\n",
    "\n",
    "def extract_features(model, loader):\n",
    "    all_features = []\n",
    "    for batch_images, _ in loader:\n",
    "        batch_images = batch_images.to(device)\n",
    "        features = model(batch_images)\n",
    "        all_features.extend(features.detach().cpu().numpy())\n",
    "    return all_features"
   ]
  },
  {
   "cell_type": "code",
   "execution_count": 11,
   "id": "f5f6811b-662b-45ba-8699-1427b4256ee2",
   "metadata": {},
   "outputs": [],
   "source": [
    "########################"
   ]
  },
  {
   "cell_type": "code",
   "execution_count": 14,
   "id": "18d88199-696d-4140-990d-a0f9fe1482a9",
   "metadata": {},
   "outputs": [],
   "source": [
    "def main():\n",
    "    preprocess = transforms.Compose([\n",
    "    transforms.Resize(256),\n",
    "    transforms.CenterCrop(224),\n",
    "    transforms.ToTensor(),\n",
    "    transforms.Normalize(mean=[0.485, 0.456, 0.406], std=[0.229, 0.224, 0.225]),\n",
    "    ])\n",
    "    # Set up the directory containing the images\n",
    "    dataset = ImageFolder(root='samples', transform=preprocess)\n",
    "    loader = DataLoader(dataset, batch_size=8, shuffle=False, num_workers=4)\n",
    "\n",
    "    model = load_model()\n",
    "\n",
    "    features_batched = extract_features(model, loader)\n",
    "    output_directory = 'features'\n",
    "    # Save the feature vectors to .txt files\n",
    "    for idx, (path, _) in enumerate(dataset.imgs):\n",
    "        feature_vector = features_batched[idx].flatten()\n",
    "        filename = os.path.basename(path).split('.')[0] + '_feature.txt'\n",
    "        output_file_path = os.path.join(output_directory, filename)\n",
    "        with open(output_file_path, 'w') as f:\n",
    "            f.write(','.join(map(str, feature_vector)))\n",
    "\n",
    "if __name__ == \"__main__\":\n",
    "    main()"
   ]
  },
  {
   "cell_type": "code",
   "execution_count": null,
   "id": "fddeb0d7-951c-448f-a082-cbe2f3030ea7",
   "metadata": {},
   "outputs": [],
   "source": []
  }
 ],
 "metadata": {
  "kernelspec": {
   "display_name": "Python 3 (ipykernel)",
   "language": "python",
   "name": "python3"
  },
  "language_info": {
   "codemirror_mode": {
    "name": "ipython",
    "version": 3
   },
   "file_extension": ".py",
   "mimetype": "text/x-python",
   "name": "python",
   "nbconvert_exporter": "python",
   "pygments_lexer": "ipython3",
   "version": "3.10.12"
  }
 },
 "nbformat": 4,
 "nbformat_minor": 5
}
